{
 "cells": [
  {
   "cell_type": "code",
   "execution_count": 5,
   "id": "proud-teach",
   "metadata": {},
   "outputs": [
    {
     "name": "stdout",
     "output_type": "stream",
     "text": [
      "Datos cargados:\n",
      "\n",
      "    x1  x2  x3  limite\n",
      "0  -6 -12 -10       0\n",
      "1   1   1   1     600\n",
      "2   5   8  13    4000\n",
      "3  12  18  14    6000\n",
      "\n",
      "\n",
      "Datos en numpy array:\n",
      "\n",
      " [[  -6  -12  -10    0]\n",
      " [   1    1    1  600]\n",
      " [   5    8   13 4000]\n",
      " [  12   18   14 6000]]\n",
      "Coeficientes de función objetivo:\n",
      " [ -6 -12 -10]\n",
      "\n",
      "Coeficientes de restricciones:\n",
      " [[ 1  1  1]\n",
      " [ 5  8 13]\n",
      " [12 18 14]]\n",
      "\n",
      "Límites de restricciones:\n",
      " [ 600 4000 6000]\n",
      "Función objetivo =  -4131.147540983607\n",
      "\n",
      "X_ 0  =  0.0\n",
      "\n",
      "X_ 1  =  180.32786885245906\n",
      "\n",
      "X_ 2  =  196.72131147540978\n"
     ]
    }
   ],
   "source": [
    "import numpy as np\n",
    "import pandas as pd\n",
    "from scipy.optimize import linprog\n",
    "\n",
    "url = 'https://raw.githubusercontent.com/user/repo/main/file.csv'\n",
    "# 'https://raw.githubusercontent.com/BeatrizPaulina/OptimizationData/main/Coeff_Matrix.csv'\n",
    "df = pd.read_csv(url)\n",
    "print(\"Datos cargados:\\n\\n\",df)\n",
    "\n",
    "loaded_matrix = df.to_numpy()\n",
    "print(\"\\n\\nDatos en numpy array:\\n\\n\",loaded_matrix)\n",
    "\n",
    "obj_coeff2 = loaded_matrix[0,:-1]\n",
    "const_coeff2 = loaded_matrix[1:,0:-1]\n",
    "const_lims2 = loaded_matrix[1:,-1]\n",
    "print(\"Coeficientes de función objetivo:\\n\",obj_coeff2)\n",
    "print(\"\\nCoeficientes de restricciones:\\n\",const_coeff2)\n",
    "print(\"\\nLímites de restricciones:\\n\",const_lims2)\n",
    "\n",
    "res2 = linprog(obj_coeff2,const_coeff2,const_lims2,method='simplex',)\n",
    "print(\"Función objetivo = \",res2.fun)\n",
    "for i,x_val in enumerate(res2.x):\n",
    "    print(\"\\nX_\",i, \" = \",x_val)"
   ]
  },
  {
   "cell_type": "code",
   "execution_count": null,
   "id": "emerging-precipitation",
   "metadata": {},
   "outputs": [],
   "source": []
  },
  {
   "cell_type": "code",
   "execution_count": null,
   "id": "following-halloween",
   "metadata": {},
   "outputs": [],
   "source": []
  }
 ],
 "metadata": {
  "kernelspec": {
   "display_name": "Python 3",
   "language": "python",
   "name": "python3"
  },
  "language_info": {
   "codemirror_mode": {
    "name": "ipython",
    "version": 3
   },
   "file_extension": ".py",
   "mimetype": "text/x-python",
   "name": "python",
   "nbconvert_exporter": "python",
   "pygments_lexer": "ipython3",
   "version": "3.9.2"
  }
 },
 "nbformat": 4,
 "nbformat_minor": 5
}
