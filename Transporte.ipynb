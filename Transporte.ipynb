{
  "nbformat": 4,
  "nbformat_minor": 5,
  "metadata": {
    "kernelspec": {
      "display_name": "Python 3",
      "language": "python",
      "name": "python3"
    },
    "language_info": {
      "codemirror_mode": {
        "name": "ipython",
        "version": 3
      },
      "file_extension": ".py",
      "mimetype": "text/x-python",
      "name": "python",
      "nbconvert_exporter": "python",
      "pygments_lexer": "ipython3",
      "version": "3.9.2"
    },
    "colab": {
      "name": "Copia de Untitled.ipynb",
      "provenance": []
    }
  },
  "cells": [
    {
      "cell_type": "markdown",
      "metadata": {
        "id": "uUupcxOY5CjV"
      },
      "source": [
        "Importamos la paqueteria necesaria"
      ],
      "id": "uUupcxOY5CjV"
    },
    {
      "cell_type": "code",
      "metadata": {
        "id": "proud-teach"
      },
      "source": [
        "import numpy as np\n",
        "import pandas as pd\n",
        "from scipy.optimize import linprog"
      ],
      "id": "proud-teach",
      "execution_count": null,
      "outputs": []
    },
    {
      "cell_type": "markdown",
      "metadata": {
        "id": "IDGY8L5A5Prk"
      },
      "source": [
        "importamos desde nuestra cuenta de github datos del algoritmo de transporte"
      ],
      "id": "IDGY8L5A5Prk"
    },
    {
      "cell_type": "code",
      "metadata": {
        "colab": {
          "base_uri": "https://localhost:8080/"
        },
        "id": "emerging-precipitation",
        "outputId": "aa9ae85e-f1f9-4f35-df41-13c1b8e1774a"
      },
      "source": [
        "#url = 'https://raw.githubusercontent.com/daerksun/MDyE---Algoritmo-de-Transporte/main/TransporteBalanceado.csv'\n",
        "url = 'https://raw.githubusercontent.com/daerksun/MDyE---Algoritmo-de-Transporte/main/TransporteDesbalanceadoDemanda.csv'\n",
        "#url = 'https://raw.githubusercontent.com/daerksun/MDyE---Algoritmo-de-Transporte/main/TransporteDesbalanceadoOferta.csv'\n",
        "df = pd.read_csv(url)\n",
        "print(\"Datos cargados:\\n\\n\",df)"
      ],
      "id": "emerging-precipitation",
      "execution_count": null,
      "outputs": [
        {
          "output_type": "stream",
          "name": "stdout",
          "text": [
            "Datos cargados:\n",
            "\n",
            "   Unnamed: 0  R1  R2  R3  R4  Oferta\n",
            "0         S1  10   2  20  11      45\n",
            "1         S2  12   7   9  20      55\n",
            "2         S3   4  14  16  18      30\n",
            "3    Demanda  25  35  35  20       0\n"
          ]
        }
      ]
    },
    {
      "cell_type": "markdown",
      "metadata": {
        "id": "RGZ3GMCi5iUG"
      },
      "source": [
        "Convertimos los datos a array para poder manipularlos con la libreria NumPy"
      ],
      "id": "RGZ3GMCi5iUG"
    },
    {
      "cell_type": "code",
      "metadata": {
        "colab": {
          "base_uri": "https://localhost:8080/"
        },
        "id": "following-halloween",
        "outputId": "418896bc-6185-4b8e-c6ec-2fb18c6bf6d3"
      },
      "source": [
        "loaded_matrix = df.to_numpy()\n",
        "corr = loaded_matrix[:,1:]\n",
        "print(\"\\n\\nDatos en numpy array:\\n\\n\",corr)"
      ],
      "id": "following-halloween",
      "execution_count": null,
      "outputs": [
        {
          "output_type": "stream",
          "name": "stdout",
          "text": [
            "\n",
            "\n",
            "Datos en numpy array:\n",
            "\n",
            " [[10 2 20 11 45]\n",
            " [12 7 9 20 55]\n",
            " [4 14 16 18 30]\n",
            " [25 35 35 20 0]]\n"
          ]
        }
      ]
    },
    {
      "cell_type": "markdown",
      "metadata": {
        "id": "zirTmCGeWJm5"
      },
      "source": [
        "Verificamos si el sistema esta balanceado"
      ],
      "id": "zirTmCGeWJm5"
    },
    {
      "cell_type": "code",
      "metadata": {
        "id": "vH2pWCdcWJxu",
        "colab": {
          "base_uri": "https://localhost:8080/"
        },
        "outputId": "1f81bb3d-9c36-43e6-b7b5-c9ae21e96901"
      },
      "source": [
        "if (np.sum(corr[:-1,-1])-np.sum(corr[-1,:-1]) == 0):\n",
        "  print(\"Balanceado\")\n",
        "elif (np.sum(corr[:-1,-1])-np.sum(corr[-1,:-1]) < 0):\n",
        "  print(\"Balancear Oferta\")\n",
        "else:\n",
        "  print(\"Balancear Demanda\")\n"
      ],
      "id": "vH2pWCdcWJxu",
      "execution_count": null,
      "outputs": [
        {
          "output_type": "stream",
          "name": "stdout",
          "text": [
            "Balancear Demanda\n"
          ]
        }
      ]
    },
    {
      "cell_type": "markdown",
      "metadata": {
        "id": "-_oU78ZX56Lj"
      },
      "source": [
        "Se obtiene el vector de coeficientes, por lo que se procede a concatenar los pesos que vamos a minimizar pasandolos de una matriz a un vector"
      ],
      "id": "-_oU78ZX56Lj"
    },
    {
      "cell_type": "code",
      "metadata": {
        "colab": {
          "base_uri": "https://localhost:8080/"
        },
        "id": "Fg1ABbJM57sp",
        "outputId": "51da18f6-f9fc-44c6-e5fd-fc292ec4a6ea"
      },
      "source": [
        "obj_coeff = np.zeros((0,0))\n",
        "for i,x_val in enumerate(corr[:-1,0]):\n",
        "  obj_coeff = np.concatenate((obj_coeff,corr[i,:-1]), axis = None)\n",
        "print(\"Coeficientes de función objetivo:\\n\",obj_coeff)"
      ],
      "id": "Fg1ABbJM57sp",
      "execution_count": null,
      "outputs": [
        {
          "output_type": "stream",
          "name": "stdout",
          "text": [
            "Coeficientes de función objetivo:\n",
            " [10 2 20 11 12 7 9 20 4 14 16 18]\n"
          ]
        }
      ]
    },
    {
      "cell_type": "markdown",
      "metadata": {
        "id": "kbNTQJMw6RlV"
      },
      "source": [
        "Posteriormente armamos la matriz de restricciónes, la cual contemplara las restricciones horizontales y verticales llevadas al mismo plano"
      ],
      "id": "kbNTQJMw6RlV"
    },
    {
      "cell_type": "code",
      "metadata": {
        "colab": {
          "base_uri": "https://localhost:8080/"
        },
        "id": "ZqBDUwJc6Ry5",
        "outputId": "e70690ae-9cda-4e04-a3a4-c24f766d81bc"
      },
      "source": [
        "num_S = corr[:-1,0].size\n",
        "num_R = corr[0,:-1].size\n",
        "\n",
        "const_coeff = np.zeros((num_R + num_S, num_R * num_S))\n",
        "\n",
        "for i,col in enumerate(corr[:-1,0]):\n",
        "  for j,x_val in enumerate(corr[0,:-1]):\n",
        "    const_coeff[i,j+(i*num_R)] = 1\n",
        "\n",
        "for i,col in enumerate(corr[0,:-1]):\n",
        "  for j,x_val in enumerate(corr[:-1,0]):\n",
        "    const_coeff[i+num_S,(j*num_R)+i] = 1\n",
        "\n",
        "print(\"\\nCoeficientes de restricciones:\\n\",const_coeff)"
      ],
      "id": "ZqBDUwJc6Ry5",
      "execution_count": null,
      "outputs": [
        {
          "output_type": "stream",
          "name": "stdout",
          "text": [
            "\n",
            "Coeficientes de restricciones:\n",
            " [[1. 1. 1. 1. 0. 0. 0. 0. 0. 0. 0. 0.]\n",
            " [0. 0. 0. 0. 1. 1. 1. 1. 0. 0. 0. 0.]\n",
            " [0. 0. 0. 0. 0. 0. 0. 0. 1. 1. 1. 1.]\n",
            " [1. 0. 0. 0. 1. 0. 0. 0. 1. 0. 0. 0.]\n",
            " [0. 1. 0. 0. 0. 1. 0. 0. 0. 1. 0. 0.]\n",
            " [0. 0. 1. 0. 0. 0. 1. 0. 0. 0. 1. 0.]\n",
            " [0. 0. 0. 1. 0. 0. 0. 1. 0. 0. 0. 1.]]\n"
          ]
        }
      ]
    },
    {
      "cell_type": "markdown",
      "metadata": {
        "id": "MDiN96D7FPwQ"
      },
      "source": [
        ""
      ],
      "id": "MDiN96D7FPwQ"
    },
    {
      "cell_type": "code",
      "metadata": {
        "colab": {
          "base_uri": "https://localhost:8080/"
        },
        "id": "-yhqMIlGFP7a",
        "outputId": "434ef41b-90da-41fc-d1f2-34ee7c0d4c2e"
      },
      "source": [
        "const_lims = np.concatenate((corr[:-1,-1],corr[-1,:-1]), axis = 0)\n",
        "\n",
        "print(\"\\nLímites de restricciones:\\n\",const_lims)"
      ],
      "id": "-yhqMIlGFP7a",
      "execution_count": null,
      "outputs": [
        {
          "output_type": "stream",
          "name": "stdout",
          "text": [
            "\n",
            "Límites de restricciones:\n",
            " [45 55 30 25 35 35 20]\n"
          ]
        }
      ]
    },
    {
      "cell_type": "markdown",
      "metadata": {
        "id": "Fx3U7i5bHVIF"
      },
      "source": [
        ""
      ],
      "id": "Fx3U7i5bHVIF"
    },
    {
      "cell_type": "code",
      "metadata": {
        "colab": {
          "base_uri": "https://localhost:8080/"
        },
        "id": "mIKMRB4JHVWS",
        "outputId": "0441734a-5844-47db-ab5b-c4f2e9483dae"
      },
      "source": [
        "res2 = linprog(obj_coeff,A_eq=const_coeff,b_eq=const_lims,method='simplex',)\n",
        "print(\"Función objetivo = \",res2.fun, \"\\n\")\n",
        "\n",
        "for j,x_val in enumerate(corr[0,:-1]):\n",
        "  wrtcol = wrtcol + \"\\t|R\"+str(j+1)\n",
        "print(wrtcol)\n",
        "\n",
        "for i,col in enumerate(corr[:-1,0]):\n",
        "  wrtcol = \"S\"+str(i+1)\n",
        "  for j,x_val in enumerate(corr[0,:-1]):\n",
        "    wrtcol = wrtcol + \"\\t|\" + str(res2.x[(i*num_R)+j])\n",
        "  print(\"\\t--->\")\n",
        "  print(wrtcol)\n",
        "  wrtcol = \"\"\n",
        "print(\"\\t--->\")"
      ],
      "id": "mIKMRB4JHVWS",
      "execution_count": null,
      "outputs": [
        {
          "output_type": "stream",
          "name": "stdout",
          "text": [
            "Función objetivo =  0.0 \n",
            "\n",
            "\t|R1\t|R2\t|R3\t|R4\n",
            "\t--->\n",
            "S1\t|0.0\t|0.0\t|0.0\t|0.0\n",
            "\t--->\n",
            "S2\t|0.0\t|0.0\t|0.0\t|0.0\n",
            "\t--->\n",
            "S3\t|0.0\t|0.0\t|0.0\t|0.0\n",
            "\t--->\n"
          ]
        },
        {
          "output_type": "stream",
          "name": "stderr",
          "text": [
            "/usr/local/lib/python3.7/dist-packages/ipykernel_launcher.py:1: OptimizeWarning: A_eq does not appear to be of full row rank. To improve performance, check the problem formulation for redundant equality constraints.\n",
            "  \"\"\"Entry point for launching an IPython kernel.\n"
          ]
        }
      ]
    }
  ]
}